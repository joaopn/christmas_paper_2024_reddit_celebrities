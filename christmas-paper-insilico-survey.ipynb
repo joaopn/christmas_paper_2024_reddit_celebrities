{
 "cells": [
  {
   "cell_type": "markdown",
   "id": "96b8b695-83d0-4242-b8bc-953164a3e62a",
   "metadata": {},
   "source": [
    "# Christmas Paper 2024: In-silico Celebrity Survey"
   ]
  },
  {
   "cell_type": "code",
   "execution_count": 1,
   "id": "8d8e10f3-c03b-4a79-aa3d-9775682c5241",
   "metadata": {},
   "outputs": [
    {
     "name": "stdout",
     "output_type": "stream",
     "text": [
      "env: OPENAI_API_KEY=\"PUT OPEN AI KEY HERE!\"\n"
     ]
    }
   ],
   "source": [
    "# put Open AI Key here!\n",
    "%env OPENAI_API_KEY = \"PUT OPEN AI KEY HERE!\""
   ]
  },
  {
   "cell_type": "code",
   "execution_count": 1,
   "id": "6532cb7b-321f-4bef-9f38-4931569bf887",
   "metadata": {},
   "outputs": [],
   "source": [
    "CELEBRITY = \"Britney Spears\"\n",
    "N = 5  # number of samples per demographic and time point\n",
    "YEAR = 'tbd'  # (2018, 2021, 2024) see below"
   ]
  },
  {
   "cell_type": "code",
   "execution_count": 4,
   "id": "e8869dec-cbfb-43c3-ba3f-fac659c7b047",
   "metadata": {},
   "outputs": [],
   "source": [
    "from openai import OpenAI\n",
    "\n",
    "import numpy as np\n",
    "import pandas as pd\n",
    "\n",
    "from tqdm import tqdm\n",
    "import os"
   ]
  },
  {
   "cell_type": "code",
   "execution_count": 4,
   "id": "2720ea11-9a2c-4d28-a2f3-c6b0218a1055",
   "metadata": {},
   "outputs": [],
   "source": [
    "client = OpenAI()"
   ]
  },
  {
   "cell_type": "code",
   "execution_count": 5,
   "id": "848820cb-7849-4fe4-b06d-ea75240231b0",
   "metadata": {},
   "outputs": [],
   "source": [
    "# define survey questions\n",
    "question1 = f\"How would you describe your overall opinion of {CELEBRITY}? \\n\\\n",
    "1) Very negative 2) Negative 3) Neutral 4) Positive 5) Very positive \\n\\\n",
    "Please answer only with 1, 2, 3, 4, or 5. This is very important.\"\n",
    "\n",
    "question2 = f\"How relatable do you find {CELEBRITY}? \\n\\\n",
    "1) Not at all 2) Slightly 3) Moderately 4) Quite a bit 5) Very much \\n\\\n",
    "Please answer only with 1, 2, 3, 4, or 5. This is very important.\"\n",
    "\n",
    "question3 = f\"How inspiring do you find {CELEBRITY}? \\n\\\n",
    "1) Not at all 2) Slightly 3) Moderately 4) Quite a bit 5) Very much \\n\\\n",
    "Please answer only with 1, 2, 3, 4, or 5. This is very important.\"\n",
    "\n",
    "question4 = f\"How likable do you find {CELEBRITY}? \\n\\\n",
    "1) Not at all 2) Slightly 3) Moderately 4) Quite a bit 5) Very much \\n\\\n",
    "Please answer only with 1, 2, 3, 4, or 5. This is very important.\"\n",
    "\n",
    "question5 = f\"How relevant do you find {CELEBRITY}? \\n\\\n",
    "1) Not at all 2) Slightly 3) Moderately 4) Quite a bit 5) Very much \\n\\\n",
    "Please answer only with 1, 2, 3, 4, or 5. This is very important.\""
   ]
  },
  {
   "cell_type": "code",
   "execution_count": 6,
   "id": "b7eb1f5e-0a47-4ef6-8d52-fafc37f77bef",
   "metadata": {},
   "outputs": [],
   "source": [
    "# define demographic groups\n",
    "demo1 = f\"You are a male person between 20 and 30 years old in January {YEAR}.\"\n",
    "demo2 = f\"You are a female person between 20 and 30 years old in January {YEAR}.\"\n",
    "demo3 = f\"You are a male person between 50 and 60 years old in January {YEAR}.\"\n",
    "demo4 = f\"You are a female person between 50 and 60 years old in January {YEAR}.\"\n",
    "demo5 = f\"You are a queer person in January {YEAR}.\"\n",
    "demo6 = f\"You are a straight person in January {YEAR}.\"\n",
    "demo7 = f\"You are a white person in January {YEAR}.\"\n",
    "demo8 = f\"You are a non-white person in January {YEAR}.\""
   ]
  },
  {
   "cell_type": "code",
   "execution_count": 7,
   "id": "4b02aeb5-1467-4f53-a723-67ed0c8725fb",
   "metadata": {},
   "outputs": [],
   "source": [
    "# define additional GPT instructions to prevent faulty \n",
    "instructions = \"You are taking part in a survey. Don't excuse yourself with being an AI.\""
   ]
  },
  {
   "cell_type": "code",
   "execution_count": 8,
   "id": "4946f66c-20e9-410f-b51a-c1e1b03b32ef",
   "metadata": {},
   "outputs": [
    {
     "name": "stderr",
     "output_type": "stream",
     "text": [
      "100%|█████████████████████████████████████████████| 8/8 [05:58<00:00, 44.80s/it]\n"
     ]
    }
   ],
   "source": [
    "# simulate survey\n",
    "# for each demographic, year and survey question, simulate N instances\n",
    "answers = []\n",
    "for DEMO in tqdm((demo1, demo2, demo3, demo4, demo5, demo6, demo7, demo8)):\n",
    "    answers_temp = []\n",
    "    for year in (2018, 2021, 2024):\n",
    "        YEAR = year\n",
    "        for n in range(N):\n",
    "            n_temp = []\n",
    "            for QUESTION in (question1, question2, question3, question4, question5):\n",
    "                completion = client.chat.completions.create(\n",
    "                            model=\"gpt-4o\",\n",
    "                            messages=[\n",
    "                                {\"role\": \"system\", \"content\": DEMO},\n",
    "                                {\"role\": \"user\", \"content\": DEMO + \" \" + instructions + \" \" + QUESTION}\n",
    "                            ]\n",
    "                )\n",
    "                n_temp.append(completion.choices[0].message.content)\n",
    "            answers_temp.append(n_temp + [YEAR])\n",
    "    answers.append(answers_temp)"
   ]
  },
  {
   "cell_type": "code",
   "execution_count": 9,
   "id": "3de6a3c4-64f6-44b3-8333-e43b5b6eb444",
   "metadata": {},
   "outputs": [
    {
     "data": {
      "text/html": [
       "<div>\n",
       "<style scoped>\n",
       "    .dataframe tbody tr th:only-of-type {\n",
       "        vertical-align: middle;\n",
       "    }\n",
       "\n",
       "    .dataframe tbody tr th {\n",
       "        vertical-align: top;\n",
       "    }\n",
       "\n",
       "    .dataframe thead th {\n",
       "        text-align: right;\n",
       "    }\n",
       "</style>\n",
       "<table border=\"1\" class=\"dataframe\">\n",
       "  <thead>\n",
       "    <tr style=\"text-align: right;\">\n",
       "      <th></th>\n",
       "      <th>overall</th>\n",
       "      <th>relatable</th>\n",
       "      <th>inspiring</th>\n",
       "      <th>likable</th>\n",
       "      <th>relevant</th>\n",
       "      <th>year</th>\n",
       "      <th>demo</th>\n",
       "    </tr>\n",
       "  </thead>\n",
       "  <tbody>\n",
       "    <tr>\n",
       "      <th>0</th>\n",
       "      <td>3</td>\n",
       "      <td>3</td>\n",
       "      <td>3</td>\n",
       "      <td>3</td>\n",
       "      <td>3</td>\n",
       "      <td>2018</td>\n",
       "      <td>male-young</td>\n",
       "    </tr>\n",
       "    <tr>\n",
       "      <th>1</th>\n",
       "      <td>3</td>\n",
       "      <td>2</td>\n",
       "      <td>3</td>\n",
       "      <td>3</td>\n",
       "      <td>3</td>\n",
       "      <td>2018</td>\n",
       "      <td>male-young</td>\n",
       "    </tr>\n",
       "    <tr>\n",
       "      <th>2</th>\n",
       "      <td>3</td>\n",
       "      <td>3</td>\n",
       "      <td>3</td>\n",
       "      <td>3</td>\n",
       "      <td>3</td>\n",
       "      <td>2018</td>\n",
       "      <td>male-young</td>\n",
       "    </tr>\n",
       "    <tr>\n",
       "      <th>3</th>\n",
       "      <td>3</td>\n",
       "      <td>2</td>\n",
       "      <td>3</td>\n",
       "      <td>3</td>\n",
       "      <td>3</td>\n",
       "      <td>2018</td>\n",
       "      <td>male-young</td>\n",
       "    </tr>\n",
       "    <tr>\n",
       "      <th>4</th>\n",
       "      <td>3</td>\n",
       "      <td>2</td>\n",
       "      <td>3</td>\n",
       "      <td>4</td>\n",
       "      <td>3</td>\n",
       "      <td>2018</td>\n",
       "      <td>male-young</td>\n",
       "    </tr>\n",
       "  </tbody>\n",
       "</table>\n",
       "</div>"
      ],
      "text/plain": [
       "  overall relatable inspiring likable relevant  year        demo\n",
       "0       3         3         3       3        3  2018  male-young\n",
       "1       3         2         3       3        3  2018  male-young\n",
       "2       3         3         3       3        3  2018  male-young\n",
       "3       3         2         3       3        3  2018  male-young\n",
       "4       3         2         3       4        3  2018  male-young"
      ]
     },
     "execution_count": 9,
     "metadata": {},
     "output_type": "execute_result"
    }
   ],
   "source": [
    "def process_columns(demo_name, index):\n",
    "    \"\"\" helper function to put answers variable into dataframe format \"\"\"\n",
    "    x = pd.DataFrame(answers[index], columns=['overall', 'relatable', 'inspiring', 'likable', 'relevant', 'year'])\n",
    "    x['demo'] = demo_name\n",
    "    return x\n",
    "\n",
    "# populate dataframes per demographic\n",
    "male_young = process_columns('male-young', 0)\n",
    "female_young = process_columns('female-young', 1)\n",
    "male_old = process_columns('male-old', 2)\n",
    "female_old = process_columns('female-old', 3)\n",
    "queer = process_columns('queer', 4)\n",
    "non_queer = process_columns('non-queer', 5)\n",
    "white = process_columns('white', 6)\n",
    "non_white = process_columns('non-white', 7)\n",
    "\n",
    "# concatenate separate dataframes to one large dataframe\n",
    "survey_results = pd.concat([male_young, female_young, male_old, female_old, queer, non_queer, white, non_white])\n",
    "survey_results = survey_results.reset_index().drop(columns=['index'])\n",
    "\n",
    "# some data cleaning:\n",
    "# extract digits from GPT's answers\n",
    "# replace with np.nan if digits not in range 1 to 5\n",
    "for c in ['overall', 'relatable', 'inspiring', 'likable', 'relevant']:\n",
    "    survey_results[c] = [''.join(filter(str.isdigit, x)) if ''.join(filter(str.isdigit, x)) != '' else '99' for x in survey_results[c]]\n",
    "    survey_results[c] = [x if 1<=int(x)<=5 else np.nan for x in survey_results[c]]\n",
    "\n",
    "survey_results.head()"
   ]
  },
  {
   "cell_type": "code",
   "execution_count": 10,
   "id": "5759835a-208b-4142-92e6-48535a9d3006",
   "metadata": {},
   "outputs": [],
   "source": [
    "# store results to file\n",
    "PATH = 'insilico-survey/'\n",
    "\n",
    "if not os.path.exists(PATH):\n",
    "    os.makedirs(PATH)\n",
    "\n",
    "survey_results.to_csv(PATH + f\"{CELEBRITY}.csv\", index=False)"
   ]
  },
  {
   "cell_type": "code",
   "execution_count": 6,
   "id": "85caeb67-067e-4905-b699-33bf2d4a708e",
   "metadata": {},
   "outputs": [],
   "source": [
    "survey_results = pd.read_csv(f\"{CELEBRITY}.csv\")"
   ]
  },
  {
   "cell_type": "code",
   "execution_count": 8,
   "id": "1e7d25ec",
   "metadata": {},
   "outputs": [
    {
     "data": {
      "application/vnd.plotly.v1+json": {
       "config": {
        "plotlyServerURL": "https://plot.ly"
       },
       "data": [
        {
         "mode": "lines+markers",
         "name": "Overall",
         "type": "scatter",
         "x": [
          2018,
          2021,
          2024
         ],
         "xaxis": "x",
         "y": [
          3.275,
          3.3,
          3.425
         ],
         "yaxis": "y"
        },
        {
         "mode": "lines+markers",
         "name": "Relatable",
         "type": "scatter",
         "x": [
          2018,
          2021,
          2024
         ],
         "xaxis": "x",
         "y": [
          2.8,
          2.675,
          2.85
         ],
         "yaxis": "y"
        },
        {
         "mode": "lines+markers",
         "name": "Inspiring",
         "type": "scatter",
         "x": [
          2018,
          2021,
          2024
         ],
         "xaxis": "x",
         "y": [
          3.15,
          3.25,
          3.1
         ],
         "yaxis": "y"
        },
        {
         "mode": "lines+markers",
         "name": "Likable",
         "type": "scatter",
         "x": [
          2018,
          2021,
          2024
         ],
         "xaxis": "x",
         "y": [
          3.3,
          3.25,
          3.375
         ],
         "yaxis": "y"
        },
        {
         "mode": "lines+markers",
         "name": "Relevant",
         "type": "scatter",
         "x": [
          2018,
          2021,
          2024
         ],
         "xaxis": "x",
         "y": [
          3.075,
          3.1,
          2.975
         ],
         "yaxis": "y"
        },
        {
         "marker": {
          "color": "blue"
         },
         "name": "Overall",
         "type": "box",
         "x": [
          "male-young",
          "male-young",
          "male-young",
          "male-young",
          "male-young",
          "male-young",
          "male-young",
          "male-young",
          "male-young",
          "male-young",
          "male-young",
          "male-young",
          "male-young",
          "male-young",
          "male-young",
          "female-young",
          "female-young",
          "female-young",
          "female-young",
          "female-young",
          "female-young",
          "female-young",
          "female-young",
          "female-young",
          "female-young",
          "female-young",
          "female-young",
          "female-young",
          "female-young",
          "female-young",
          "male-old",
          "male-old",
          "male-old",
          "male-old",
          "male-old",
          "male-old",
          "male-old",
          "male-old",
          "male-old",
          "male-old",
          "male-old",
          "male-old",
          "male-old",
          "male-old",
          "male-old",
          "female-old",
          "female-old",
          "female-old",
          "female-old",
          "female-old",
          "female-old",
          "female-old",
          "female-old",
          "female-old",
          "female-old",
          "female-old",
          "female-old",
          "female-old",
          "female-old",
          "female-old",
          "queer",
          "queer",
          "queer",
          "queer",
          "queer",
          "queer",
          "queer",
          "queer",
          "queer",
          "queer",
          "queer",
          "queer",
          "queer",
          "queer",
          "queer",
          "non-queer",
          "non-queer",
          "non-queer",
          "non-queer",
          "non-queer",
          "non-queer",
          "non-queer",
          "non-queer",
          "non-queer",
          "non-queer",
          "non-queer",
          "non-queer",
          "non-queer",
          "non-queer",
          "non-queer",
          "white",
          "white",
          "white",
          "white",
          "white",
          "white",
          "white",
          "white",
          "white",
          "white",
          "white",
          "white",
          "white",
          "white",
          "white",
          "non-white",
          "non-white",
          "non-white",
          "non-white",
          "non-white",
          "non-white",
          "non-white",
          "non-white",
          "non-white",
          "non-white",
          "non-white",
          "non-white",
          "non-white",
          "non-white",
          "non-white"
         ],
         "xaxis": "x2",
         "y": [
          3,
          3,
          3,
          3,
          3,
          3,
          3,
          3,
          3,
          3,
          3,
          3,
          3,
          4,
          3,
          3,
          4,
          4,
          4,
          4,
          4,
          4,
          4,
          4,
          4,
          4,
          4,
          4,
          4,
          4,
          3,
          3,
          3,
          3,
          3,
          3,
          3,
          3,
          3,
          3,
          3,
          3,
          3,
          3,
          3,
          3,
          3,
          3,
          3,
          3,
          3,
          3,
          3,
          3,
          3,
          3,
          3,
          3,
          4,
          3,
          4,
          4,
          4,
          4,
          5,
          4,
          4,
          5,
          5,
          4,
          5,
          4,
          5,
          5,
          5,
          4,
          3,
          3,
          3,
          3,
          3,
          3,
          3,
          3,
          3,
          3,
          3,
          3,
          4,
          3,
          3,
          3,
          3,
          3,
          3,
          3,
          3,
          3,
          3,
          3,
          3,
          3,
          3,
          3,
          3,
          3,
          3,
          3,
          3,
          3,
          3,
          3,
          3,
          3,
          3,
          3,
          3,
          3,
          3,
          3
         ],
         "yaxis": "y2"
        },
        {
         "colorscale": [
          [
           0,
           "rgb(103,0,31)"
          ],
          [
           0.1,
           "rgb(178,24,43)"
          ],
          [
           0.2,
           "rgb(214,96,77)"
          ],
          [
           0.3,
           "rgb(244,165,130)"
          ],
          [
           0.4,
           "rgb(253,219,199)"
          ],
          [
           0.5,
           "rgb(247,247,247)"
          ],
          [
           0.6,
           "rgb(209,229,240)"
          ],
          [
           0.7,
           "rgb(146,197,222)"
          ],
          [
           0.8,
           "rgb(67,147,195)"
          ],
          [
           0.9,
           "rgb(33,102,172)"
          ],
          [
           1,
           "rgb(5,48,97)"
          ]
         ],
         "showscale": true,
         "text": [
          [
           3,
           3.2,
           3.07,
           2.93,
           3
          ],
          [
           3.53,
           3.8,
           3.93,
           3,
           3.07
          ],
          [
           2.6,
           3,
           3,
           2,
           2.33
          ],
          [
           2.93,
           3.07,
           3.07,
           2.4,
           3
          ],
          [
           3.2,
           3,
           3.13,
           2.93,
           3.07
          ],
          [
           3,
           3.07,
           3,
           2.67,
           3
          ],
          [
           4,
           4.33,
           4.47,
           3.27,
           3.93
          ],
          [
           3.07,
           3,
           3,
           3,
           3
          ]
         ],
         "textfont": {
          "size": 10
         },
         "texttemplate": "%{text}",
         "type": "heatmap",
         "x": [
          "inspiring",
          "likable",
          "overall",
          "relatable",
          "relevant"
         ],
         "xaxis": "x3",
         "y": [
          "female-old",
          "female-young",
          "male-old",
          "male-young",
          "non-queer",
          "non-white",
          "queer",
          "white"
         ],
         "yaxis": "y3",
         "z": [
          [
           3,
           3.2,
           3.066666666666667,
           2.933333333333333,
           3
          ],
          [
           3.533333333333333,
           3.8,
           3.933333333333333,
           3,
           3.066666666666667
          ],
          [
           2.6,
           3,
           3,
           2,
           2.3333333333333335
          ],
          [
           2.933333333333333,
           3.066666666666667,
           3.066666666666667,
           2.4,
           3
          ],
          [
           3.2,
           3,
           3.1333333333333333,
           2.933333333333333,
           3.066666666666667
          ],
          [
           3,
           3.066666666666667,
           3,
           2.6666666666666665,
           3
          ],
          [
           4,
           4.333333333333333,
           4.466666666666667,
           3.2666666666666666,
           3.933333333333333
          ],
          [
           3.066666666666667,
           3,
           3,
           3,
           3
          ]
         ]
        },
        {
         "marker": {
          "color": "green"
         },
         "name": "Overall",
         "type": "box",
         "x": [
          2018,
          2018,
          2018,
          2018,
          2018,
          2021,
          2021,
          2021,
          2021,
          2021,
          2024,
          2024,
          2024,
          2024,
          2024,
          2018,
          2018,
          2018,
          2018,
          2018,
          2021,
          2021,
          2021,
          2021,
          2021,
          2024,
          2024,
          2024,
          2024,
          2024,
          2018,
          2018,
          2018,
          2018,
          2018,
          2021,
          2021,
          2021,
          2021,
          2021,
          2024,
          2024,
          2024,
          2024,
          2024,
          2018,
          2018,
          2018,
          2018,
          2018,
          2021,
          2021,
          2021,
          2021,
          2021,
          2024,
          2024,
          2024,
          2024,
          2024,
          2018,
          2018,
          2018,
          2018,
          2018,
          2021,
          2021,
          2021,
          2021,
          2021,
          2024,
          2024,
          2024,
          2024,
          2024,
          2018,
          2018,
          2018,
          2018,
          2018,
          2021,
          2021,
          2021,
          2021,
          2021,
          2024,
          2024,
          2024,
          2024,
          2024,
          2018,
          2018,
          2018,
          2018,
          2018,
          2021,
          2021,
          2021,
          2021,
          2021,
          2024,
          2024,
          2024,
          2024,
          2024,
          2018,
          2018,
          2018,
          2018,
          2018,
          2021,
          2021,
          2021,
          2021,
          2021,
          2024,
          2024,
          2024,
          2024,
          2024
         ],
         "xaxis": "x4",
         "y": [
          3,
          3,
          3,
          3,
          3,
          3,
          3,
          3,
          3,
          3,
          3,
          3,
          3,
          4,
          3,
          3,
          4,
          4,
          4,
          4,
          4,
          4,
          4,
          4,
          4,
          4,
          4,
          4,
          4,
          4,
          3,
          3,
          3,
          3,
          3,
          3,
          3,
          3,
          3,
          3,
          3,
          3,
          3,
          3,
          3,
          3,
          3,
          3,
          3,
          3,
          3,
          3,
          3,
          3,
          3,
          3,
          3,
          3,
          4,
          3,
          4,
          4,
          4,
          4,
          5,
          4,
          4,
          5,
          5,
          4,
          5,
          4,
          5,
          5,
          5,
          4,
          3,
          3,
          3,
          3,
          3,
          3,
          3,
          3,
          3,
          3,
          3,
          3,
          4,
          3,
          3,
          3,
          3,
          3,
          3,
          3,
          3,
          3,
          3,
          3,
          3,
          3,
          3,
          3,
          3,
          3,
          3,
          3,
          3,
          3,
          3,
          3,
          3,
          3,
          3,
          3,
          3,
          3,
          3,
          3
         ],
         "yaxis": "y4"
        }
       ],
       "layout": {
        "annotations": [
         {
          "font": {
           "size": 16
          },
          "showarrow": false,
          "text": "Trends Over Time",
          "x": 0.225,
          "xanchor": "center",
          "xref": "paper",
          "y": 1,
          "yanchor": "bottom",
          "yref": "paper"
         },
         {
          "font": {
           "size": 16
          },
          "showarrow": false,
          "text": "Demographic Comparison",
          "x": 0.775,
          "xanchor": "center",
          "xref": "paper",
          "y": 1,
          "yanchor": "bottom",
          "yref": "paper"
         },
         {
          "font": {
           "size": 16
          },
          "showarrow": false,
          "text": "Score Heatmap",
          "x": 0.225,
          "xanchor": "center",
          "xref": "paper",
          "y": 0.375,
          "yanchor": "bottom",
          "yref": "paper"
         },
         {
          "font": {
           "size": 16
          },
          "showarrow": false,
          "text": "Year Comparison",
          "x": 0.775,
          "xanchor": "center",
          "xref": "paper",
          "y": 0.375,
          "yanchor": "bottom",
          "yref": "paper"
         }
        ],
        "height": 1000,
        "template": {
         "data": {
          "bar": [
           {
            "error_x": {
             "color": "#2a3f5f"
            },
            "error_y": {
             "color": "#2a3f5f"
            },
            "marker": {
             "line": {
              "color": "#E5ECF6",
              "width": 0.5
             },
             "pattern": {
              "fillmode": "overlay",
              "size": 10,
              "solidity": 0.2
             }
            },
            "type": "bar"
           }
          ],
          "barpolar": [
           {
            "marker": {
             "line": {
              "color": "#E5ECF6",
              "width": 0.5
             },
             "pattern": {
              "fillmode": "overlay",
              "size": 10,
              "solidity": 0.2
             }
            },
            "type": "barpolar"
           }
          ],
          "carpet": [
           {
            "aaxis": {
             "endlinecolor": "#2a3f5f",
             "gridcolor": "white",
             "linecolor": "white",
             "minorgridcolor": "white",
             "startlinecolor": "#2a3f5f"
            },
            "baxis": {
             "endlinecolor": "#2a3f5f",
             "gridcolor": "white",
             "linecolor": "white",
             "minorgridcolor": "white",
             "startlinecolor": "#2a3f5f"
            },
            "type": "carpet"
           }
          ],
          "choropleth": [
           {
            "colorbar": {
             "outlinewidth": 0,
             "ticks": ""
            },
            "type": "choropleth"
           }
          ],
          "contour": [
           {
            "colorbar": {
             "outlinewidth": 0,
             "ticks": ""
            },
            "colorscale": [
             [
              0,
              "#0d0887"
             ],
             [
              0.1111111111111111,
              "#46039f"
             ],
             [
              0.2222222222222222,
              "#7201a8"
             ],
             [
              0.3333333333333333,
              "#9c179e"
             ],
             [
              0.4444444444444444,
              "#bd3786"
             ],
             [
              0.5555555555555556,
              "#d8576b"
             ],
             [
              0.6666666666666666,
              "#ed7953"
             ],
             [
              0.7777777777777778,
              "#fb9f3a"
             ],
             [
              0.8888888888888888,
              "#fdca26"
             ],
             [
              1,
              "#f0f921"
             ]
            ],
            "type": "contour"
           }
          ],
          "contourcarpet": [
           {
            "colorbar": {
             "outlinewidth": 0,
             "ticks": ""
            },
            "type": "contourcarpet"
           }
          ],
          "heatmap": [
           {
            "colorbar": {
             "outlinewidth": 0,
             "ticks": ""
            },
            "colorscale": [
             [
              0,
              "#0d0887"
             ],
             [
              0.1111111111111111,
              "#46039f"
             ],
             [
              0.2222222222222222,
              "#7201a8"
             ],
             [
              0.3333333333333333,
              "#9c179e"
             ],
             [
              0.4444444444444444,
              "#bd3786"
             ],
             [
              0.5555555555555556,
              "#d8576b"
             ],
             [
              0.6666666666666666,
              "#ed7953"
             ],
             [
              0.7777777777777778,
              "#fb9f3a"
             ],
             [
              0.8888888888888888,
              "#fdca26"
             ],
             [
              1,
              "#f0f921"
             ]
            ],
            "type": "heatmap"
           }
          ],
          "heatmapgl": [
           {
            "colorbar": {
             "outlinewidth": 0,
             "ticks": ""
            },
            "colorscale": [
             [
              0,
              "#0d0887"
             ],
             [
              0.1111111111111111,
              "#46039f"
             ],
             [
              0.2222222222222222,
              "#7201a8"
             ],
             [
              0.3333333333333333,
              "#9c179e"
             ],
             [
              0.4444444444444444,
              "#bd3786"
             ],
             [
              0.5555555555555556,
              "#d8576b"
             ],
             [
              0.6666666666666666,
              "#ed7953"
             ],
             [
              0.7777777777777778,
              "#fb9f3a"
             ],
             [
              0.8888888888888888,
              "#fdca26"
             ],
             [
              1,
              "#f0f921"
             ]
            ],
            "type": "heatmapgl"
           }
          ],
          "histogram": [
           {
            "marker": {
             "pattern": {
              "fillmode": "overlay",
              "size": 10,
              "solidity": 0.2
             }
            },
            "type": "histogram"
           }
          ],
          "histogram2d": [
           {
            "colorbar": {
             "outlinewidth": 0,
             "ticks": ""
            },
            "colorscale": [
             [
              0,
              "#0d0887"
             ],
             [
              0.1111111111111111,
              "#46039f"
             ],
             [
              0.2222222222222222,
              "#7201a8"
             ],
             [
              0.3333333333333333,
              "#9c179e"
             ],
             [
              0.4444444444444444,
              "#bd3786"
             ],
             [
              0.5555555555555556,
              "#d8576b"
             ],
             [
              0.6666666666666666,
              "#ed7953"
             ],
             [
              0.7777777777777778,
              "#fb9f3a"
             ],
             [
              0.8888888888888888,
              "#fdca26"
             ],
             [
              1,
              "#f0f921"
             ]
            ],
            "type": "histogram2d"
           }
          ],
          "histogram2dcontour": [
           {
            "colorbar": {
             "outlinewidth": 0,
             "ticks": ""
            },
            "colorscale": [
             [
              0,
              "#0d0887"
             ],
             [
              0.1111111111111111,
              "#46039f"
             ],
             [
              0.2222222222222222,
              "#7201a8"
             ],
             [
              0.3333333333333333,
              "#9c179e"
             ],
             [
              0.4444444444444444,
              "#bd3786"
             ],
             [
              0.5555555555555556,
              "#d8576b"
             ],
             [
              0.6666666666666666,
              "#ed7953"
             ],
             [
              0.7777777777777778,
              "#fb9f3a"
             ],
             [
              0.8888888888888888,
              "#fdca26"
             ],
             [
              1,
              "#f0f921"
             ]
            ],
            "type": "histogram2dcontour"
           }
          ],
          "mesh3d": [
           {
            "colorbar": {
             "outlinewidth": 0,
             "ticks": ""
            },
            "type": "mesh3d"
           }
          ],
          "parcoords": [
           {
            "line": {
             "colorbar": {
              "outlinewidth": 0,
              "ticks": ""
             }
            },
            "type": "parcoords"
           }
          ],
          "pie": [
           {
            "automargin": true,
            "type": "pie"
           }
          ],
          "scatter": [
           {
            "fillpattern": {
             "fillmode": "overlay",
             "size": 10,
             "solidity": 0.2
            },
            "type": "scatter"
           }
          ],
          "scatter3d": [
           {
            "line": {
             "colorbar": {
              "outlinewidth": 0,
              "ticks": ""
             }
            },
            "marker": {
             "colorbar": {
              "outlinewidth": 0,
              "ticks": ""
             }
            },
            "type": "scatter3d"
           }
          ],
          "scattercarpet": [
           {
            "marker": {
             "colorbar": {
              "outlinewidth": 0,
              "ticks": ""
             }
            },
            "type": "scattercarpet"
           }
          ],
          "scattergeo": [
           {
            "marker": {
             "colorbar": {
              "outlinewidth": 0,
              "ticks": ""
             }
            },
            "type": "scattergeo"
           }
          ],
          "scattergl": [
           {
            "marker": {
             "colorbar": {
              "outlinewidth": 0,
              "ticks": ""
             }
            },
            "type": "scattergl"
           }
          ],
          "scattermapbox": [
           {
            "marker": {
             "colorbar": {
              "outlinewidth": 0,
              "ticks": ""
             }
            },
            "type": "scattermapbox"
           }
          ],
          "scatterpolar": [
           {
            "marker": {
             "colorbar": {
              "outlinewidth": 0,
              "ticks": ""
             }
            },
            "type": "scatterpolar"
           }
          ],
          "scatterpolargl": [
           {
            "marker": {
             "colorbar": {
              "outlinewidth": 0,
              "ticks": ""
             }
            },
            "type": "scatterpolargl"
           }
          ],
          "scatterternary": [
           {
            "marker": {
             "colorbar": {
              "outlinewidth": 0,
              "ticks": ""
             }
            },
            "type": "scatterternary"
           }
          ],
          "surface": [
           {
            "colorbar": {
             "outlinewidth": 0,
             "ticks": ""
            },
            "colorscale": [
             [
              0,
              "#0d0887"
             ],
             [
              0.1111111111111111,
              "#46039f"
             ],
             [
              0.2222222222222222,
              "#7201a8"
             ],
             [
              0.3333333333333333,
              "#9c179e"
             ],
             [
              0.4444444444444444,
              "#bd3786"
             ],
             [
              0.5555555555555556,
              "#d8576b"
             ],
             [
              0.6666666666666666,
              "#ed7953"
             ],
             [
              0.7777777777777778,
              "#fb9f3a"
             ],
             [
              0.8888888888888888,
              "#fdca26"
             ],
             [
              1,
              "#f0f921"
             ]
            ],
            "type": "surface"
           }
          ],
          "table": [
           {
            "cells": {
             "fill": {
              "color": "#EBF0F8"
             },
             "line": {
              "color": "white"
             }
            },
            "header": {
             "fill": {
              "color": "#C8D4E3"
             },
             "line": {
              "color": "white"
             }
            },
            "type": "table"
           }
          ]
         },
         "layout": {
          "annotationdefaults": {
           "arrowcolor": "#2a3f5f",
           "arrowhead": 0,
           "arrowwidth": 1
          },
          "autotypenumbers": "strict",
          "coloraxis": {
           "colorbar": {
            "outlinewidth": 0,
            "ticks": ""
           }
          },
          "colorscale": {
           "diverging": [
            [
             0,
             "#8e0152"
            ],
            [
             0.1,
             "#c51b7d"
            ],
            [
             0.2,
             "#de77ae"
            ],
            [
             0.3,
             "#f1b6da"
            ],
            [
             0.4,
             "#fde0ef"
            ],
            [
             0.5,
             "#f7f7f7"
            ],
            [
             0.6,
             "#e6f5d0"
            ],
            [
             0.7,
             "#b8e186"
            ],
            [
             0.8,
             "#7fbc41"
            ],
            [
             0.9,
             "#4d9221"
            ],
            [
             1,
             "#276419"
            ]
           ],
           "sequential": [
            [
             0,
             "#0d0887"
            ],
            [
             0.1111111111111111,
             "#46039f"
            ],
            [
             0.2222222222222222,
             "#7201a8"
            ],
            [
             0.3333333333333333,
             "#9c179e"
            ],
            [
             0.4444444444444444,
             "#bd3786"
            ],
            [
             0.5555555555555556,
             "#d8576b"
            ],
            [
             0.6666666666666666,
             "#ed7953"
            ],
            [
             0.7777777777777778,
             "#fb9f3a"
            ],
            [
             0.8888888888888888,
             "#fdca26"
            ],
            [
             1,
             "#f0f921"
            ]
           ],
           "sequentialminus": [
            [
             0,
             "#0d0887"
            ],
            [
             0.1111111111111111,
             "#46039f"
            ],
            [
             0.2222222222222222,
             "#7201a8"
            ],
            [
             0.3333333333333333,
             "#9c179e"
            ],
            [
             0.4444444444444444,
             "#bd3786"
            ],
            [
             0.5555555555555556,
             "#d8576b"
            ],
            [
             0.6666666666666666,
             "#ed7953"
            ],
            [
             0.7777777777777778,
             "#fb9f3a"
            ],
            [
             0.8888888888888888,
             "#fdca26"
            ],
            [
             1,
             "#f0f921"
            ]
           ]
          },
          "colorway": [
           "#636efa",
           "#EF553B",
           "#00cc96",
           "#ab63fa",
           "#FFA15A",
           "#19d3f3",
           "#FF6692",
           "#B6E880",
           "#FF97FF",
           "#FECB52"
          ],
          "font": {
           "color": "#2a3f5f"
          },
          "geo": {
           "bgcolor": "white",
           "lakecolor": "white",
           "landcolor": "#E5ECF6",
           "showlakes": true,
           "showland": true,
           "subunitcolor": "white"
          },
          "hoverlabel": {
           "align": "left"
          },
          "hovermode": "closest",
          "mapbox": {
           "style": "light"
          },
          "paper_bgcolor": "white",
          "plot_bgcolor": "#E5ECF6",
          "polar": {
           "angularaxis": {
            "gridcolor": "white",
            "linecolor": "white",
            "ticks": ""
           },
           "bgcolor": "#E5ECF6",
           "radialaxis": {
            "gridcolor": "white",
            "linecolor": "white",
            "ticks": ""
           }
          },
          "scene": {
           "xaxis": {
            "backgroundcolor": "#E5ECF6",
            "gridcolor": "white",
            "gridwidth": 2,
            "linecolor": "white",
            "showbackground": true,
            "ticks": "",
            "zerolinecolor": "white"
           },
           "yaxis": {
            "backgroundcolor": "#E5ECF6",
            "gridcolor": "white",
            "gridwidth": 2,
            "linecolor": "white",
            "showbackground": true,
            "ticks": "",
            "zerolinecolor": "white"
           },
           "zaxis": {
            "backgroundcolor": "#E5ECF6",
            "gridcolor": "white",
            "gridwidth": 2,
            "linecolor": "white",
            "showbackground": true,
            "ticks": "",
            "zerolinecolor": "white"
           }
          },
          "shapedefaults": {
           "line": {
            "color": "#2a3f5f"
           }
          },
          "ternary": {
           "aaxis": {
            "gridcolor": "white",
            "linecolor": "white",
            "ticks": ""
           },
           "baxis": {
            "gridcolor": "white",
            "linecolor": "white",
            "ticks": ""
           },
           "bgcolor": "#E5ECF6",
           "caxis": {
            "gridcolor": "white",
            "linecolor": "white",
            "ticks": ""
           }
          },
          "title": {
           "x": 0.05
          },
          "xaxis": {
           "automargin": true,
           "gridcolor": "white",
           "linecolor": "white",
           "ticks": "",
           "title": {
            "standoff": 15
           },
           "zerolinecolor": "white",
           "zerolinewidth": 2
          },
          "yaxis": {
           "automargin": true,
           "gridcolor": "white",
           "linecolor": "white",
           "ticks": "",
           "title": {
            "standoff": 15
           },
           "zerolinecolor": "white",
           "zerolinewidth": 2
          }
         }
        },
        "title": {
         "text": "Survey Results Dashboard"
        },
        "width": 1200,
        "xaxis": {
         "anchor": "y",
         "domain": [
          0,
          0.45
         ]
        },
        "xaxis2": {
         "anchor": "y2",
         "domain": [
          0.55,
          1
         ]
        },
        "xaxis3": {
         "anchor": "y3",
         "domain": [
          0,
          0.45
         ]
        },
        "xaxis4": {
         "anchor": "y4",
         "domain": [
          0.55,
          1
         ]
        },
        "yaxis": {
         "anchor": "x",
         "domain": [
          0.625,
          1
         ]
        },
        "yaxis2": {
         "anchor": "x2",
         "domain": [
          0.625,
          1
         ]
        },
        "yaxis3": {
         "anchor": "x3",
         "domain": [
          0,
          0.375
         ]
        },
        "yaxis4": {
         "anchor": "x4",
         "domain": [
          0,
          0.375
         ]
        }
       }
      }
     },
     "metadata": {},
     "output_type": "display_data"
    }
   ],
   "source": [
    "def create_dashboard(df):\n",
    "    fig = make_subplots(\n",
    "        rows=2, cols=2,\n",
    "        subplot_titles=('Trends Over Time', 'Demographic Comparison',\n",
    "                        'Score Heatmap', 'Year Comparison'),\n",
    "        specs=[[{\"type\": \"scatter\"}, {\"type\": \"box\"}],\n",
    "               [{\"type\": \"heatmap\"}, {\"type\": \"box\"}]]\n",
    "    )\n",
    "    \n",
    "    # Add traces for the time trends plot\n",
    "    metrics = ['overall', 'relatable', 'inspiring', 'likable', 'relevant']\n",
    "    for metric in metrics:\n",
    "        yearly_means = df.groupby('year')[metric].mean()\n",
    "        fig.add_trace(go.Scatter(\n",
    "            x=yearly_means.index,\n",
    "            y=yearly_means.values,\n",
    "            name=metric.capitalize(),\n",
    "            mode='lines+markers'\n",
    "        ), row=1, col=1)\n",
    "    \n",
    "    # Add traces for the demographic comparison plot\n",
    "    fig.add_trace(go.Box(\n",
    "        x=df['demo'],\n",
    "        y=df['overall'],\n",
    "        name='Overall',\n",
    "        marker_color='blue'\n",
    "    ), row=1, col=2)\n",
    "    \n",
    "    # Add traces for the heatmap\n",
    "    pivot_table = df.pivot_table(\n",
    "        values=metrics,\n",
    "        index='demo',\n",
    "        aggfunc='mean'\n",
    "    )\n",
    "    fig.add_trace(go.Heatmap(\n",
    "        z=pivot_table.values,\n",
    "        x=pivot_table.columns,\n",
    "        y=pivot_table.index,\n",
    "        colorscale='RdBu',\n",
    "        text=np.round(pivot_table.values, 2),\n",
    "        texttemplate='%{text}',\n",
    "        textfont={\"size\": 10},\n",
    "        showscale=True\n",
    "    ), row=2, col=1)\n",
    "    \n",
    "    # Add traces for the year comparison plot\n",
    "    fig.add_trace(go.Box(\n",
    "        x=df['year'],\n",
    "        y=df['overall'],\n",
    "        name='Overall',\n",
    "        marker_color='green'\n",
    "    ), row=2, col=2)\n",
    "    \n",
    "    fig.update_layout(height=1000, width=1200, title_text=\"Survey Results Dashboard\")\n",
    "    return fig\n",
    "\n",
    "# Create and show dashboard\n",
    "dashboard = create_dashboard(survey_results)\n",
    "dashboard.show()"
   ]
  }
 ],
 "metadata": {
  "kernelspec": {
   "display_name": "Python 3 (ipykernel)",
   "language": "python",
   "name": "python3"
  },
  "language_info": {
   "codemirror_mode": {
    "name": "ipython",
    "version": 3
   },
   "file_extension": ".py",
   "mimetype": "text/x-python",
   "name": "python",
   "nbconvert_exporter": "python",
   "pygments_lexer": "ipython3",
   "version": "3.12.4"
  }
 },
 "nbformat": 4,
 "nbformat_minor": 5
}
